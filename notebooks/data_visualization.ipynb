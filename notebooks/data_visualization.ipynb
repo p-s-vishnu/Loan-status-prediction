{
 "cells": [
  {
   "cell_type": "code",
   "execution_count": 2,
   "metadata": {
    "_cell_guid": "b1076dfc-b9ad-4769-8c92-a6c4dae69d19",
    "_uuid": "8f2839f25d086af736a60e9eeb907d3b93b6e0e5"
   },
   "outputs": [
    {
     "name": "stdout",
     "output_type": "stream",
     "text": [
      "['.git', '.ipynb_checkpoints', 'data_visualization.ipynb', 'README.md', 'app.py', 'troubleshoot.md', '.vscode', 'requirements.txt', 'Procfile', 'LICENSE', '__pycache__', 'test.csv', 'train.csv', 'runtime.txt', 'data_preparation.ipynb', 'model.pkl', 'model.py']\n"
     ]
    }
   ],
   "source": [
    "# This Python 3 environment comes with many helpful analytics libraries installed\n",
    "# It is defined by the kaggle/python docker image: https://github.com/kaggle/docker-python\n",
    "# For example, here's several helpful packages to load in \n",
    "\n",
    "import numpy as np # linear algebra\n",
    "import pandas as pd # data processing, CSV file I/O (e.g. pd.read_csv)\n",
    "import matplotlib.pyplot as plt\n",
    "import seaborn as sns\n",
    "\n",
    "# Input data files are available in the \"../input/\" directory.\n",
    "# For example, running this (by clicking run or pressing Shift+Enter) will list the files in the input directory\n",
    "\n",
    "import os\n",
    "print(os.listdir())\n",
    "\n",
    "# Any results you write to the current directory are saved as output."
   ]
  },
  {
   "cell_type": "code",
   "execution_count": 4,
   "metadata": {
    "_cell_guid": "79c7e3d0-c299-4dcb-8224-4455121ee9b0",
    "_uuid": "d629ff2d2480ee46fbb7e2d37f6b5fab8052498a",
    "scrolled": true
   },
   "outputs": [
    {
     "name": "stdout",
     "output_type": "stream",
     "text": [
      "Train data shape (614, 13)\n",
      "Index(['Loan_ID', 'Gender', 'Married', 'Dependents', 'Education',\n",
      "       'Self_Employed', 'ApplicantIncome', 'CoapplicantIncome', 'LoanAmount',\n",
      "       'Loan_Amount_Term', 'Credit_History', 'Property_Area', 'Loan_Status'],\n",
      "      dtype='object')\n"
     ]
    }
   ],
   "source": [
    "train_df = pd.read_csv(\"train.csv\")\n",
    "test_df = pd.read_csv(\"test.csv\")\n",
    "print('Train data shape', train_df.shape)\n",
    "print(train_df.columns)"
   ]
  },
  {
   "cell_type": "code",
   "execution_count": 5,
   "metadata": {
    "_uuid": "be5c942ba720923b66eed2cf539ae449fe74e955",
    "scrolled": false
   },
   "outputs": [
    {
     "data": {
      "text/html": [
       "<div>\n",
       "<style scoped>\n",
       "    .dataframe tbody tr th:only-of-type {\n",
       "        vertical-align: middle;\n",
       "    }\n",
       "\n",
       "    .dataframe tbody tr th {\n",
       "        vertical-align: top;\n",
       "    }\n",
       "\n",
       "    .dataframe thead th {\n",
       "        text-align: right;\n",
       "    }\n",
       "</style>\n",
       "<table border=\"1\" class=\"dataframe\">\n",
       "  <thead>\n",
       "    <tr style=\"text-align: right;\">\n",
       "      <th></th>\n",
       "      <th>Loan_ID</th>\n",
       "      <th>Gender</th>\n",
       "      <th>Married</th>\n",
       "      <th>Dependents</th>\n",
       "      <th>Education</th>\n",
       "      <th>Self_Employed</th>\n",
       "      <th>ApplicantIncome</th>\n",
       "      <th>CoapplicantIncome</th>\n",
       "      <th>LoanAmount</th>\n",
       "      <th>Loan_Amount_Term</th>\n",
       "      <th>Credit_History</th>\n",
       "      <th>Property_Area</th>\n",
       "      <th>Loan_Status</th>\n",
       "    </tr>\n",
       "  </thead>\n",
       "  <tbody>\n",
       "    <tr>\n",
       "      <th>0</th>\n",
       "      <td>LP001002</td>\n",
       "      <td>Male</td>\n",
       "      <td>No</td>\n",
       "      <td>0</td>\n",
       "      <td>Graduate</td>\n",
       "      <td>No</td>\n",
       "      <td>5849</td>\n",
       "      <td>0.0</td>\n",
       "      <td>NaN</td>\n",
       "      <td>360.0</td>\n",
       "      <td>1.0</td>\n",
       "      <td>Urban</td>\n",
       "      <td>Y</td>\n",
       "    </tr>\n",
       "    <tr>\n",
       "      <th>1</th>\n",
       "      <td>LP001003</td>\n",
       "      <td>Male</td>\n",
       "      <td>Yes</td>\n",
       "      <td>1</td>\n",
       "      <td>Graduate</td>\n",
       "      <td>No</td>\n",
       "      <td>4583</td>\n",
       "      <td>1508.0</td>\n",
       "      <td>128.0</td>\n",
       "      <td>360.0</td>\n",
       "      <td>1.0</td>\n",
       "      <td>Rural</td>\n",
       "      <td>N</td>\n",
       "    </tr>\n",
       "    <tr>\n",
       "      <th>2</th>\n",
       "      <td>LP001005</td>\n",
       "      <td>Male</td>\n",
       "      <td>Yes</td>\n",
       "      <td>0</td>\n",
       "      <td>Graduate</td>\n",
       "      <td>Yes</td>\n",
       "      <td>3000</td>\n",
       "      <td>0.0</td>\n",
       "      <td>66.0</td>\n",
       "      <td>360.0</td>\n",
       "      <td>1.0</td>\n",
       "      <td>Urban</td>\n",
       "      <td>Y</td>\n",
       "    </tr>\n",
       "    <tr>\n",
       "      <th>3</th>\n",
       "      <td>LP001006</td>\n",
       "      <td>Male</td>\n",
       "      <td>Yes</td>\n",
       "      <td>0</td>\n",
       "      <td>Not Graduate</td>\n",
       "      <td>No</td>\n",
       "      <td>2583</td>\n",
       "      <td>2358.0</td>\n",
       "      <td>120.0</td>\n",
       "      <td>360.0</td>\n",
       "      <td>1.0</td>\n",
       "      <td>Urban</td>\n",
       "      <td>Y</td>\n",
       "    </tr>\n",
       "    <tr>\n",
       "      <th>4</th>\n",
       "      <td>LP001008</td>\n",
       "      <td>Male</td>\n",
       "      <td>No</td>\n",
       "      <td>0</td>\n",
       "      <td>Graduate</td>\n",
       "      <td>No</td>\n",
       "      <td>6000</td>\n",
       "      <td>0.0</td>\n",
       "      <td>141.0</td>\n",
       "      <td>360.0</td>\n",
       "      <td>1.0</td>\n",
       "      <td>Urban</td>\n",
       "      <td>Y</td>\n",
       "    </tr>\n",
       "  </tbody>\n",
       "</table>\n",
       "</div>"
      ],
      "text/plain": [
       "    Loan_ID Gender Married Dependents     Education Self_Employed  \\\n",
       "0  LP001002   Male      No          0      Graduate            No   \n",
       "1  LP001003   Male     Yes          1      Graduate            No   \n",
       "2  LP001005   Male     Yes          0      Graduate           Yes   \n",
       "3  LP001006   Male     Yes          0  Not Graduate            No   \n",
       "4  LP001008   Male      No          0      Graduate            No   \n",
       "\n",
       "   ApplicantIncome  CoapplicantIncome  LoanAmount  Loan_Amount_Term  \\\n",
       "0             5849                0.0         NaN             360.0   \n",
       "1             4583             1508.0       128.0             360.0   \n",
       "2             3000                0.0        66.0             360.0   \n",
       "3             2583             2358.0       120.0             360.0   \n",
       "4             6000                0.0       141.0             360.0   \n",
       "\n",
       "   Credit_History Property_Area Loan_Status  \n",
       "0             1.0         Urban           Y  \n",
       "1             1.0         Rural           N  \n",
       "2             1.0         Urban           Y  \n",
       "3             1.0         Urban           Y  \n",
       "4             1.0         Urban           Y  "
      ]
     },
     "execution_count": 5,
     "metadata": {},
     "output_type": "execute_result"
    }
   ],
   "source": [
    "train_df.head()"
   ]
  },
  {
   "cell_type": "code",
   "execution_count": 6,
   "metadata": {
    "_uuid": "10cb9265d003b77fade755adaf8e823562d95046"
   },
   "outputs": [
    {
     "name": "stdout",
     "output_type": "stream",
     "text": [
      "Education: ['Graduate' 'Not Graduate']\n",
      "Dependents: ['0' '1' '2' '3+' nan]\n",
      "Property_Area: ['Urban' 'Rural' 'Semiurban']\n"
     ]
    }
   ],
   "source": [
    "print(f'Education: {train_df.Education.unique()}')\n",
    "print(f'Dependents: {train_df.Dependents.unique()}')\n",
    "print(f'Property_Area: {train_df.Property_Area.unique()}')\n",
    "# credit: https://chrisalbon.com/python/data_wrangling/pandas_list_unique_values_in_column/"
   ]
  },
  {
   "cell_type": "markdown",
   "metadata": {
    "_uuid": "082e31656539469d30ffa2b447dd598d5989ddf9"
   },
   "source": [
    "Now lets visualize each variable separately. Different types of variables are Categorical, ordinal and numerical.\n",
    "\n",
    "**Categorical features**: These features have categories (Gender, Married, Self_Employed, Credit_History, Loan_Status).\n",
    "\n",
    "**Ordinal features**: Variables in categorical features having some order involved (Dependents, Education, Property_Area).\n",
    "\n",
    "**Numerical features**: These features have numerical values (ApplicantIncome, CoapplicantIncome, LoanAmount, Loan_Amount_Term)."
   ]
  },
  {
   "cell_type": "markdown",
   "metadata": {
    "_uuid": "06a6d1257725af4492a423ac8a91929920e1de70"
   },
   "source": [
    "# Exploratory data analysis\n",
    "## Univariate analysis\n"
   ]
  },
  {
   "cell_type": "markdown",
   "metadata": {
    "_uuid": "145f13d641ae76ce2d8862926012dcd1423979bf"
   },
   "source": [
    "## 1. Loan status"
   ]
  },
  {
   "cell_type": "code",
   "execution_count": null,
   "metadata": {
    "_uuid": "689857a9a1cc5b707840482ba480103d39f75e99",
    "scrolled": true
   },
   "outputs": [],
   "source": [
    "loan_status_count = train_df['Loan_Status'].value_counts()\n",
    "print(loan_status_count, type(loan_status_count))\n",
    "loan_status_count.plot.bar()"
   ]
  },
  {
   "cell_type": "markdown",
   "metadata": {
    "_uuid": "2be02433463a8c9872a208afe3e45d46f75d3fb5"
   },
   "source": [
    "## 2. Categorical variable analysis (except Loan_Status)\n",
    "### Gender, Married, Self_Employed, Credit_History"
   ]
  },
  {
   "cell_type": "code",
   "execution_count": null,
   "metadata": {
    "_uuid": "bec2acc5e36120cbac8466fabd0c28c3425d88b2",
    "scrolled": false
   },
   "outputs": [],
   "source": [
    "plt.figure(1)\n",
    "plt.subplot(221)\n",
    "train_df['Gender'].value_counts(normalize=True).plot.bar(figsize=(20,10), title= 'Gender')\n",
    "\n",
    "plt.subplot(222)\n",
    "train_df['Married'].value_counts(normalize=True).plot.bar(title='Married')\n",
    "\n",
    "plt.subplot(223)\n",
    "train_df['Self_Employed'].value_counts(normalize=True).plot.bar(title='Self Employed')\n",
    "\n",
    "plt.subplot(224)\n",
    "train_df['Credit_History'].value_counts(normalize=True).plot.bar(title='Credit History')"
   ]
  },
  {
   "cell_type": "markdown",
   "metadata": {
    "_uuid": "9b319142227f5d09fa947088e3259ca4d97bfc94"
   },
   "source": [
    "## 3.  Independent Variable (Ordinal)\n",
    "### Dependents, Education, Property_Area"
   ]
  },
  {
   "cell_type": "code",
   "execution_count": 7,
   "metadata": {
    "_uuid": "6fd7026bf44df94793e1d02d3c5c5dc95c52ec99"
   },
   "outputs": [
    {
     "data": {
      "text/plain": [
       "<matplotlib.axes._subplots.AxesSubplot at 0x7f112593ca58>"
      ]
     },
     "execution_count": 7,
     "metadata": {},
     "output_type": "execute_result"
    },
    {
     "data": {
      "image/png": "[encoded data removed]",
      "text/plain": [
       "<Figure size 1440x720 with 3 Axes>"
      ]
     },
     "metadata": {
      "needs_background": "light"
     },
     "output_type": "display_data"
    }
   ],
   "source": [
    "plt.figure(1)\n",
    "\n",
    "plt.subplot(231)\n",
    "train_df['Dependents'].value_counts().plot.bar(figsize=(20, 10), title='Dependents')\n",
    "\n",
    "plt.subplot(232)\n",
    "train_df['Education'].value_counts().plot.bar(title='Education')\n",
    "\n",
    "plt.subplot(233)\n",
    "train_df['Property_Area'].value_counts().plot.bar(title='Property area')"
   ]
  },
  {
   "cell_type": "markdown",
   "metadata": {
    "_uuid": "5a01d321be7bbc1fcac8fc1a44fa7ee4837b4240"
   },
   "source": [
    "## Independent Variable (Numerical)"
   ]
  },
  {
   "cell_type": "code",
   "execution_count": null,
   "metadata": {
    "_uuid": "bd493feff302e3321510e8e343a7224f796714a1"
   },
   "outputs": [],
   "source": [
    "plt.figure(1)\n",
    "plt.subplot(121)\n",
    "sns.distplot(train_df['ApplicantIncome']);\n",
    "\n",
    "plt.subplot(122)\n",
    "train_df['ApplicantIncome'].plot.box(figsize=(16,5))\n",
    "\n",
    "plt.show()"
   ]
  },
  {
   "cell_type": "markdown",
   "metadata": {
    "_uuid": "17af242a88abd6ba5e3b7deae4b4206739a15ba8"
   },
   "source": [
    "It can be inferred that most of the data in the distribution of applicant income is towards left which means it is not normally distributed. We will try to make it normal in later sections as algorithms works better if the data is normally distributed.\n",
    "\n",
    "The boxplot confirms the presence of a lot of outliers/extreme values. This can be attributed to the income disparity in the society. Part of this can be driven by the fact that we are looking at people with different education levels. Let us segregate them by Education:"
   ]
  },
  {
   "cell_type": "code",
   "execution_count": null,
   "metadata": {
    "_uuid": "21e738638fbb3f5621049e9d4e4b0004ffaa5265"
   },
   "outputs": [],
   "source": [
    "train_df.boxplot(column='ApplicantIncome', by='Education')\n",
    "# To remove the upper title in box plot\n",
    "plt.suptitle('')"
   ]
  },
  {
   "cell_type": "markdown",
   "metadata": {
    "_uuid": "cbccf017b17706688c6860b606a40da91d7a250f"
   },
   "source": [
    "We can see that there are a higher number of graduates with very high incomes, which are appearing to be the outliers.\n",
    "\n",
    "Let’s look at the Coapplicant income distribution."
   ]
  },
  {
   "cell_type": "code",
   "execution_count": null,
   "metadata": {
    "_uuid": "01e8148eaf26e9fb91788c2d6ffb8c7dd0775f97"
   },
   "outputs": [],
   "source": [
    "plt.figure(1)\n",
    "plt.subplot(121)\n",
    "sns.distplot(train_df['CoapplicantIncome'])\n",
    "\n",
    "plt.subplot(122)\n",
    "train_df['CoapplicantIncome'].plot.box(figsize=(12,5))\n",
    "plt.show()"
   ]
  },
  {
   "cell_type": "raw",
   "metadata": {
    "_uuid": "da64574ccd121fefd80832fa98cab09f404017a0"
   },
   "source": []
  },
  {
   "cell_type": "markdown",
   "metadata": {
    "_uuid": "756e382fc10b3358785fa581a118996bcfaf97af"
   },
   "source": []
  },
  {
   "cell_type": "code",
   "execution_count": null,
   "metadata": {
    "_uuid": "2589c76c5baf1842a3a8183c2d7431d1247bace0",
    "scrolled": true
   },
   "outputs": [],
   "source": [
    "# train_df['Loan_Status'].value_counts(normalize=True).plot.bar()"
   ]
  },
  {
   "cell_type": "markdown",
   "metadata": {
    "_uuid": "c4cdc0f5c3319404401455d6eb1c651bcad52f14"
   },
   "source": [
    "We see a similar distribution as that of the applicant income. Majority of coapplicant’s income ranges from 0 to 5000. We also see a lot of outliers in the coapplicant income and it is not normally distributed.\n",
    "\n",
    "Let’s look at the distribution of LoanAmount variable."
   ]
  },
  {
   "cell_type": "code",
   "execution_count": null,
   "metadata": {
    "_uuid": "75875537fa2b11eb29ac05cb99f23a385ce06778"
   },
   "outputs": [],
   "source": [
    "plt.figure(1)\n",
    "plt.subplot(121)\n",
    "\n",
    "# distribution plots cannot handle NaN\n",
    "df = train_df.dropna()\n",
    "sns.distplot(df['LoanAmount'])\n",
    "\n",
    "plt.subplot(122)\n",
    "# Figsize = width * length\n",
    "df['LoanAmount'].plot.box(figsize=(15,7))"
   ]
  },
  {
   "cell_type": "code",
   "execution_count": null,
   "metadata": {
    "_uuid": "4d5b651498510ed066615595b5880174547b06e4"
   },
   "outputs": [],
   "source": [
    "df.boxplot(column='CoapplicantIncome', by='Education')\n",
    "plt.suptitle('')"
   ]
  },
  {
   "cell_type": "markdown",
   "metadata": {
    "_uuid": "d33f640f5e530086fa327dd92ee129efc969a6e5"
   },
   "source": [
    "## Bivariate Analysis"
   ]
  },
  {
   "cell_type": "markdown",
   "metadata": {
    "_uuid": "6a011c9dfdf40815fd3b65d3e937d66b5ae4e613"
   },
   "source": [
    "## Categorical Independent Variable vs Target Variable"
   ]
  },
  {
   "cell_type": "code",
   "execution_count": null,
   "metadata": {
    "_uuid": "da06ab6634459973939b39c65540b83c6f72e55c"
   },
   "outputs": [],
   "source": [
    "# Compute a simple cross-tabulation of two (or more) factors. \n",
    "# By default computes a frequency table of the factors\n",
    "Gender = pd.crosstab(train_df['Gender'],train_df['Loan_Status'])\n",
    "# print(Gender)\n",
    "\n",
    "print(Gender.div(Gender.sum(axis=1).astype(float), axis=0))\n",
    "Gender.div(Gender.sum(axis=1).astype(float), axis=0).plot(kind=\"bar\", stacked=True, figsize=(4,4))"
   ]
  },
  {
   "cell_type": "code",
   "execution_count": null,
   "metadata": {
    "_uuid": "95f2a4ea8a6d128b3b8757ed900917897fb23bfb"
   },
   "outputs": [],
   "source": [
    "Married = pd.crosstab(train_df['Married'],train_df['Loan_Status'])\n",
    "Dependents = pd.crosstab(train_df['Dependents'],train_df['Loan_Status'])\n",
    "Education=pd.crosstab(train_df['Education'],train_df['Loan_Status'])\n",
    "Self_Employed = pd.crosstab(train_df['Self_Employed'],train_df['Loan_Status'])\n",
    "\n",
    "Married.div(Married.sum(1).astype(float), axis=0).plot(kind=\"bar\", stacked=True, figsize=(4,4))\n",
    "plt.show()\n",
    "\n",
    "Dependents.div(Dependents.sum(1).astype(float), axis=0).plot(kind=\"bar\", stacked=True)\n",
    "plt.show()\n",
    "\n",
    "Education.div(Education.sum(1).astype(float), axis=0).plot(kind=\"bar\", stacked=True, figsize=(4,4))\n",
    "plt.show()\n",
    "\n",
    "Self_Employed.div(Self_Employed.sum(1).astype(float), axis=0).plot(kind=\"bar\", stacked=True, figsize=(4,4))\n",
    "plt.show()"
   ]
  },
  {
   "cell_type": "markdown",
   "metadata": {
    "_uuid": "35271a9be63f24a9a14e25a7d32358434ae43489"
   },
   "source": [
    "- Proportion of married applicants is higher for the approved loans.\n",
    "- Distribution of applicants with 1 or 3+ dependents is similar across both the categories of Loan_Status.\n",
    "- There is nothing significant we can infer from Self_Employed vs Loan_Status plot.\n",
    "\n",
    "Now we will look at the relationship between remaining categorical independent variables and Loan_Status."
   ]
  },
  {
   "cell_type": "code",
   "execution_count": null,
   "metadata": {
    "_uuid": "f1a86607829ade4c9108c42177f4adc710d82d31",
    "scrolled": true
   },
   "outputs": [],
   "source": [
    "Credit_History=pd.crosstab(train_df['Credit_History'],train_df['Loan_Status'])\n",
    "Property_Area=pd.crosstab(train_df['Property_Area'],train_df['Loan_Status'])\n",
    "\n",
    "Credit_History.div(Credit_History.sum(1).astype(float), axis=0).plot(kind=\"bar\", stacked=True, figsize=(4,4))\n",
    "plt.show()\n",
    "\n",
    "Property_Area.div(Property_Area.sum(1).astype(float), axis=0).plot(kind=\"bar\", stacked=True)\n",
    "plt.show()"
   ]
  },
  {
   "cell_type": "markdown",
   "metadata": {
    "_uuid": "9e9bbe21cff05fe044692e014f3ae7f3e01b963e"
   },
   "source": [
    "## Numerical Independent Variable vs Target Variable"
   ]
  },
  {
   "cell_type": "code",
   "execution_count": null,
   "metadata": {
    "_uuid": "706268d550fd1b1cbbacfe862a84e99952ed8735"
   },
   "outputs": [],
   "source": [
    "train_df.groupby('Loan_Status').mean().plot.bar()"
   ]
  },
  {
   "cell_type": "code",
   "execution_count": null,
   "metadata": {
    "_uuid": "2b9deb604421839dd5567b546ef0bcc6a3f08f29"
   },
   "outputs": [],
   "source": [
    "train_df.groupby('Loan_Status')['ApplicantIncome'].mean().plot.bar()"
   ]
  },
  {
   "cell_type": "markdown",
   "metadata": {
    "_uuid": "bee04b5c5f4ff10ce10d951f599fc4639765c0f6"
   },
   "source": [
    "We don’t see any change in the mean income. So, let’s make bins for the applicant income variable based on the values in it and analyze the corresponding loan status for each bin."
   ]
  },
  {
   "cell_type": "code",
   "execution_count": null,
   "metadata": {
    "_uuid": "16b649378130ff16b7f131eae57a0e750ad4dc93"
   },
   "outputs": [],
   "source": [
    "bins=[0,2500,4000,6000,81000]\n",
    "group=['Low','Average','High', 'Very high']\n",
    "train_df['Income_bin'] = pd.cut(train_df['ApplicantIncome'],bins,labels=group)\n"
   ]
  },
  {
   "cell_type": "code",
   "execution_count": null,
   "metadata": {
    "_uuid": "53bd82e0307afad3026c1791b85c243acbe2bdcb"
   },
   "outputs": [],
   "source": [
    "Income_bin=pd.crosstab(train_df['Income_bin'],train_df['Loan_Status'])\n",
    "Income_bin.div(Income_bin.sum(1).astype(float), axis=0).plot(kind=\"bar\", stacked=True)\n",
    "plt.xlabel('ApplicantIncome')\n",
    "P = plt.ylabel('Percentage')"
   ]
  },
  {
   "cell_type": "markdown",
   "metadata": {
    "_uuid": "ae75a77f8eabaf51dff2245622cc0d63622a99f5"
   },
   "source": [
    "It can be inferred that Applicant income does not affect the chances of loan approval which contradicts our hypothesis in which we assumed that if the applicant income is high the chances of loan approval will also be high.\n",
    "\n",
    "We will analyze the coapplicant income and loan amount variable in similar manner."
   ]
  },
  {
   "cell_type": "code",
   "execution_count": null,
   "metadata": {
    "_uuid": "19ae91ccc36666dbd44123b356e4e29ba724fa9f"
   },
   "outputs": [],
   "source": [
    "bins=[0,1000,3000,42000]\n",
    "group=['Low','Average','High']\n",
    "train_df['Coapplicant_Income_bin'] = pd.cut(train_df['CoapplicantIncome'],bins,labels=group)\n",
    "\n",
    "Coapplicant_Income_bin=pd.crosstab(train_df['Coapplicant_Income_bin'], train_df['Loan_Status'])\n",
    "Coapplicant_Income_bin.div(Coapplicant_Income_bin.sum(1).astype(float), axis=0).plot(kind=\"bar\", stacked=True)\n",
    "plt.xlabel('CoapplicantIncome')\n",
    "P = plt.ylabel('Percentage')"
   ]
  },
  {
   "cell_type": "markdown",
   "metadata": {
    "_uuid": "e31d3fbc8edd5b35d280a397bfe8d781d0390200"
   },
   "source": [
    "It shows that if coapplicant’s income is less the chances of loan approval are high. But this does not look right. The possible reason behind this may be that most of the applicants don’t have any coapplicant so the coapplicant income for such applicants is 0 and hence the loan approval is not dependent on it. \n",
    "So we can make a new variable in which we will combine the applicant’s and coapplicant’s income to visualize the combined effect of income on loan approval.\n",
    "Let us combine the Applicant Income and Coapplicant Income and see the combined effect of Total Income on the Loan_Status."
   ]
  },
  {
   "cell_type": "code",
   "execution_count": null,
   "metadata": {
    "_uuid": "d7b8a32b06b8f924bc3a61c0933104d817fdea08"
   },
   "outputs": [],
   "source": [
    "train_df['Total_Income']=train_df['ApplicantIncome']+train_df['CoapplicantIncome']"
   ]
  },
  {
   "cell_type": "code",
   "execution_count": null,
   "metadata": {
    "_uuid": "0e35546de2f7b93a71cd2b0a48d47cb200b75cf1"
   },
   "outputs": [],
   "source": [
    "bins = [0,2500,4000,6000,81000]\n",
    "group=['Low','Average','High', 'Very high']\n",
    "train_df['Total_Income_bin'] = pd.cut(train_df['Total_Income'],bins,labels=group)\n",
    "\n",
    "Total_Income_bin = pd.crosstab(train_df['Total_Income_bin'], train_df['Loan_Status'])\n",
    "Total_Income_bin.div(Total_Income_bin.sum(1).astype(float), axis=0).plot(kind=\"bar\", stacked=True)\n",
    "plt.xlabel('Total_Income')\n",
    "P = plt.ylabel('Percentage')"
   ]
  },
  {
   "cell_type": "markdown",
   "metadata": {
    "_uuid": "e117892470f9f01dc3d782359b45acd2d20cd63c"
   },
   "source": [
    "Let’s visualize the Loan amount variable."
   ]
  },
  {
   "cell_type": "code",
   "execution_count": null,
   "metadata": {
    "_uuid": "62d0f8c8e7d318cc58e0f41508862777cc8e9dad"
   },
   "outputs": [],
   "source": [
    "bins=[0,100,200,700]\n",
    "group=['Low','Average','High']\n",
    "train_df['LoanAmount_bin'] = pd.cut(train_df['LoanAmount'], bins, labels=group)\n",
    "\n",
    "LoanAmount_bin=pd.crosstab(train_df['LoanAmount_bin'], train_df['Loan_Status'])\n",
    "LoanAmount_bin.div(LoanAmount_bin.sum(1).astype(float), axis=0).plot(kind=\"bar\", stacked=True)\n",
    "plt.xlabel('LoanAmount')\n",
    "P = plt.ylabel('Percentage')"
   ]
  },
  {
   "cell_type": "markdown",
   "metadata": {
    "_uuid": "4954d1b7c9e3d398091ad89a4c252709bc2db5ad"
   },
   "source": [
    "It can be seen that the proportion of approved loans is higher for Low and Average Loan Amount as compared to that of High Loan Amount which supports our hypothesis in which we considered that the chances of loan approval will be high when the loan amount is less.\n",
    "\n",
    "Let’s drop the bins which we created for the exploration part. We will change the 3+ in dependents variable to 3 to make it a numerical variable.We will also convert the target variable’s categories into 0 and 1 so that we can find its correlation with numerical variables. One more reason to do so is few models like logistic regression takes only numeric values as input. We will replace N with 0 and Y with 1."
   ]
  },
  {
   "cell_type": "code",
   "execution_count": null,
   "metadata": {
    "_uuid": "27f5d5b6447f11b3bcf0b61c8637953a313c7e91"
   },
   "outputs": [],
   "source": [
    "train_df = train_df.drop(['Income_bin', 'Coapplicant_Income_bin', 'LoanAmount_bin', 'Total_Income_bin', 'Total_Income'], axis=1)"
   ]
  },
  {
   "cell_type": "code",
   "execution_count": null,
   "metadata": {
    "_uuid": "6c9d662fc1a26e79790a8342af8f8430e71266bc"
   },
   "outputs": [],
   "source": [
    "train_df['Dependents'].replace('3+', 3,inplace=True)\n",
    "test_df['Dependents'].replace('3+', 3,inplace=True)\n",
    "train_df['Loan_Status'].replace('N', 0,inplace=True)\n",
    "train_df['Loan_Status'].replace('Y', 1,inplace=True)"
   ]
  },
  {
   "cell_type": "markdown",
   "metadata": {
    "_uuid": "a3aeb67fd5168e24be5bc00fbb6e9399e404393e"
   },
   "source": [
    "Now lets look at the correlation between all the numerical variables. We will use the heat map to visualize the correlation.\n",
    "\n",
    "Heatmaps visualize data through variations in coloring. The variables with darker color means their correlation is more."
   ]
  },
  {
   "cell_type": "code",
   "execution_count": null,
   "metadata": {
    "_uuid": "a89bd22a9764f6ffd9924c382b624b7ddbe19859"
   },
   "outputs": [],
   "source": [
    "matrix = train_df.corr()\n",
    "print(matrix)\n",
    "f, ax = plt.subplots(figsize=(9, 6))\n",
    "sns.heatmap(matrix, vmax=.8, square=True, cmap=\"BuPu\");"
   ]
  }
 ],
 "metadata": {
  "kernelspec": {
   "display_name": "Python 3",
   "language": "python",
   "name": "python3"
  },
  "language_info": {
   "codemirror_mode": {
    "name": "ipython",
    "version": 3
   },
   "file_extension": ".py",
   "mimetype": "text/x-python",
   "name": "python",
   "nbconvert_exporter": "python",
   "pygments_lexer": "ipython3",
   "version": "3.7.2"
  }
 },
 "nbformat": 4,
 "nbformat_minor": 1
}
