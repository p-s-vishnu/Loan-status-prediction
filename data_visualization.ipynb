{
  "cells": [
    {
      "metadata": {
        "_uuid": "8f2839f25d086af736a60e9eeb907d3b93b6e0e5",
        "_cell_guid": "b1076dfc-b9ad-4769-8c92-a6c4dae69d19",
        "trusted": true
      },
      "cell_type": "code",
      "source": "# This Python 3 environment comes with many helpful analytics libraries installed\n# It is defined by the kaggle/python docker image: https://github.com/kaggle/docker-python\n# For example, here's several helpful packages to load in \n\nimport numpy as np # linear algebra\nimport pandas as pd # data processing, CSV file I/O (e.g. pd.read_csv)\nimport matplotlib.pyplot as plt\nimport seaborn as sns\n\n# Input data files are available in the \"../input/\" directory.\n# For example, running this (by clicking run or pressing Shift+Enter) will list the files in the input directory\n\nimport os\nprint(os.listdir(\"../input/\"))\n\n# Any results you write to the current directory are saved as output.",
      "execution_count": null,
      "outputs": []
    },
    {
      "metadata": {
        "_cell_guid": "79c7e3d0-c299-4dcb-8224-4455121ee9b0",
        "_uuid": "d629ff2d2480ee46fbb7e2d37f6b5fab8052498a",
        "trusted": true,
        "scrolled": true
      },
      "cell_type": "code",
      "source": "train_df = pd.read_csv(\"../input/train3/train.csv\")\ntest_df = pd.read_csv(\"../input/test-file/test.csv\")\nprint('Train data shape', train_df.shape)\nprint(train_df.columns)",
      "execution_count": null,
      "outputs": []
    },
    {
      "metadata": {
        "trusted": true,
        "scrolled": false,
        "_uuid": "be5c942ba720923b66eed2cf539ae449fe74e955"
      },
      "cell_type": "code",
      "source": "train_df.head()",
      "execution_count": null,
      "outputs": []
    },
    {
      "metadata": {
        "trusted": true,
        "_uuid": "10cb9265d003b77fade755adaf8e823562d95046"
      },
      "cell_type": "code",
      "source": "print(f'Education: {train_df.Education.unique()}')\nprint(f'Dependents: {train_df.Dependents.unique()}')\nprint(f'Property_Area: {train_df.Property_Area.unique()}')\n# credit: https://chrisalbon.com/python/data_wrangling/pandas_list_unique_values_in_column/",
      "execution_count": null,
      "outputs": []
    },
    {
      "metadata": {
        "_uuid": "082e31656539469d30ffa2b447dd598d5989ddf9"
      },
      "cell_type": "markdown",
      "source": "Now lets visualize each variable separately. Different types of variables are Categorical, ordinal and numerical.\n\n**Categorical features**: These features have categories (Gender, Married, Self_Employed, Credit_History, Loan_Status).\n\n**Ordinal features**: Variables in categorical features having some order involved (Dependents, Education, Property_Area).\n\n**Numerical features**: These features have numerical values (ApplicantIncome, CoapplicantIncome, LoanAmount, Loan_Amount_Term)."
    },
    {
      "metadata": {
        "_uuid": "06a6d1257725af4492a423ac8a91929920e1de70"
      },
      "cell_type": "markdown",
      "source": "# Exploratory data analysis\n## Univariate analysis\n"
    },
    {
      "metadata": {
        "_uuid": "145f13d641ae76ce2d8862926012dcd1423979bf"
      },
      "cell_type": "markdown",
      "source": "## 1. Loan status"
    },
    {
      "metadata": {
        "trusted": true,
        "scrolled": true,
        "_uuid": "689857a9a1cc5b707840482ba480103d39f75e99"
      },
      "cell_type": "code",
      "source": "loan_status_count = train_df['Loan_Status'].value_counts()\nprint(loan_status_count)\nloan_status_count.plot.bar()",
      "execution_count": null,
      "outputs": []
    },
    {
      "metadata": {
        "_uuid": "2be02433463a8c9872a208afe3e45d46f75d3fb5"
      },
      "cell_type": "markdown",
      "source": "## 2. Categorical variable analysis (except Loan_Status)\n### Gender, Married, Self_Employed, Credit_History"
    },
    {
      "metadata": {
        "trusted": true,
        "scrolled": false,
        "_uuid": "bec2acc5e36120cbac8466fabd0c28c3425d88b2"
      },
      "cell_type": "code",
      "source": "plt.figure(1)\nplt.subplot(221)\ntrain_df['Gender'].value_counts(normalize=True).plot.bar(figsize=(20,10), title= 'Gender')\n\nplt.subplot(222)\ntrain_df['Married'].value_counts(normalize=True).plot.bar(title='Married')\n\nplt.subplot(223)\ntrain_df['Self_Employed'].value_counts(normalize=True).plot.bar(title='Self Employed')\n\nplt.subplot(224)\ntrain_df['Credit_History'].value_counts(normalize=True).plot.bar(title='Credit History')",
      "execution_count": null,
      "outputs": []
    },
    {
      "metadata": {
        "_uuid": "9b319142227f5d09fa947088e3259ca4d97bfc94"
      },
      "cell_type": "markdown",
      "source": "## 3.  Independent Variable (Ordinal)\n### Dependents, Education, Property_Area"
    },
    {
      "metadata": {
        "trusted": true,
        "_uuid": "6fd7026bf44df94793e1d02d3c5c5dc95c52ec99"
      },
      "cell_type": "code",
      "source": "plt.figure(1)\n\nplt.subplot(231)\ntrain_df['Dependents'].value_counts().plot.bar(figsize=(20, 10), title='Dependents')\n\nplt.subplot(232)\ntrain_df['Education'].value_counts().plot.bar(title='Education')\n\nplt.subplot(233)\ntrain_df['Property_Area'].value_counts().plot.bar(title='Property area')",
      "execution_count": null,
      "outputs": []
    },
    {
      "metadata": {
        "_uuid": "5a01d321be7bbc1fcac8fc1a44fa7ee4837b4240"
      },
      "cell_type": "markdown",
      "source": "## Independent Variable (Numerical)"
    },
    {
      "metadata": {
        "trusted": true,
        "_uuid": "bd493feff302e3321510e8e343a7224f796714a1"
      },
      "cell_type": "code",
      "source": "plt.figure(1)\nplt.subplot(121)\nsns.distplot(train_df['ApplicantIncome']);\n\nplt.subplot(122)\ntrain_df['ApplicantIncome'].plot.box(figsize=(16,5))\n\nplt.show()",
      "execution_count": null,
      "outputs": []
    },
    {
      "metadata": {
        "_uuid": "17af242a88abd6ba5e3b7deae4b4206739a15ba8"
      },
      "cell_type": "markdown",
      "source": "It can be inferred that most of the data in the distribution of applicant income is towards left which means it is not normally distributed. We will try to make it normal in later sections as algorithms works better if the data is normally distributed.\n\nThe boxplot confirms the presence of a lot of outliers/extreme values. This can be attributed to the income disparity in the society. Part of this can be driven by the fact that we are looking at people with different education levels. Let us segregate them by Education:"
    },
    {
      "metadata": {
        "trusted": true,
        "_uuid": "21e738638fbb3f5621049e9d4e4b0004ffaa5265"
      },
      "cell_type": "code",
      "source": "train_df.boxplot(column='ApplicantIncome', by='Education')\n# To remove the upper title in box plot\nplt.suptitle('')",
      "execution_count": null,
      "outputs": []
    },
    {
      "metadata": {
        "_uuid": "cbccf017b17706688c6860b606a40da91d7a250f"
      },
      "cell_type": "markdown",
      "source": "We can see that there are a higher number of graduates with very high incomes, which are appearing to be the outliers.\n\nLet’s look at the Coapplicant income distribution."
    },
    {
      "metadata": {
        "trusted": true,
        "_uuid": "01e8148eaf26e9fb91788c2d6ffb8c7dd0775f97"
      },
      "cell_type": "code",
      "source": "plt.figure(1)\nplt.subplot(121)\nsns.distplot(train_df['CoapplicantIncome'])\n\nplt.subplot(122)\ntrain_df['CoapplicantIncome'].plot.box(figsize=(12,5))\nplt.show()",
      "execution_count": null,
      "outputs": []
    },
    {
      "metadata": {
        "_uuid": "da64574ccd121fefd80832fa98cab09f404017a0"
      },
      "cell_type": "raw",
      "source": ""
    },
    {
      "metadata": {
        "_uuid": "756e382fc10b3358785fa581a118996bcfaf97af"
      },
      "cell_type": "markdown",
      "source": ""
    },
    {
      "metadata": {
        "trusted": true,
        "scrolled": true,
        "_uuid": "2589c76c5baf1842a3a8183c2d7431d1247bace0"
      },
      "cell_type": "code",
      "source": "# train_df['Loan_Status'].value_counts(normalize=True).plot.bar()",
      "execution_count": null,
      "outputs": []
    },
    {
      "metadata": {
        "_uuid": "c4cdc0f5c3319404401455d6eb1c651bcad52f14"
      },
      "cell_type": "markdown",
      "source": "We see a similar distribution as that of the applicant income. Majority of coapplicant’s income ranges from 0 to 5000. We also see a lot of outliers in the coapplicant income and it is not normally distributed.\n\nLet’s look at the distribution of LoanAmount variable."
    },
    {
      "metadata": {
        "trusted": true,
        "_uuid": "75875537fa2b11eb29ac05cb99f23a385ce06778"
      },
      "cell_type": "code",
      "source": "plt.figure(1)\nplt.subplot(121)\n\n# distribution plots cannot handle NaN\ndf = train_df.dropna()\nsns.distplot(df['LoanAmount'])\n\nplt.subplot(122)\n# Figsize = width * length\ndf['LoanAmount'].plot.box(figsize=(15,7))",
      "execution_count": null,
      "outputs": []
    },
    {
      "metadata": {
        "trusted": true,
        "_uuid": "4d5b651498510ed066615595b5880174547b06e4"
      },
      "cell_type": "code",
      "source": "df.boxplot(column='CoapplicantIncome', by='Education')\nplt.suptitle('')",
      "execution_count": null,
      "outputs": []
    },
    {
      "metadata": {
        "_uuid": "d33f640f5e530086fa327dd92ee129efc969a6e5"
      },
      "cell_type": "markdown",
      "source": "## Bivariate Analysis"
    },
    {
      "metadata": {
        "_uuid": "6a011c9dfdf40815fd3b65d3e937d66b5ae4e613"
      },
      "cell_type": "markdown",
      "source": "## Categorical Independent Variable vs Target Variable"
    },
    {
      "metadata": {
        "trusted": true,
        "_uuid": "da06ab6634459973939b39c65540b83c6f72e55c"
      },
      "cell_type": "code",
      "source": "# Compute a simple cross-tabulation of two (or more) factors. \n# By default computes a frequency table of the factors\nGender = pd.crosstab(train_df['Gender'],train_df['Loan_Status'])\n# print(Gender)\n\nprint(Gender.div(Gender.sum(axis=1).astype(float), axis=0))\nGender.div(Gender.sum(axis=1).astype(float), axis=0).plot(kind=\"bar\", stacked=True, figsize=(4,4))",
      "execution_count": null,
      "outputs": []
    },
    {
      "metadata": {
        "trusted": true,
        "_uuid": "95f2a4ea8a6d128b3b8757ed900917897fb23bfb"
      },
      "cell_type": "code",
      "source": "Married = pd.crosstab(train_df['Married'],train_df['Loan_Status'])\nDependents = pd.crosstab(train_df['Dependents'],train_df['Loan_Status'])\nEducation=pd.crosstab(train_df['Education'],train_df['Loan_Status'])\nSelf_Employed = pd.crosstab(train_df['Self_Employed'],train_df['Loan_Status'])\n\nMarried.div(Married.sum(1).astype(float), axis=0).plot(kind=\"bar\", stacked=True, figsize=(4,4))\nplt.show()\n\nDependents.div(Dependents.sum(1).astype(float), axis=0).plot(kind=\"bar\", stacked=True)\nplt.show()\n\nEducation.div(Education.sum(1).astype(float), axis=0).plot(kind=\"bar\", stacked=True, figsize=(4,4))\nplt.show()\n\nSelf_Employed.div(Self_Employed.sum(1).astype(float), axis=0).plot(kind=\"bar\", stacked=True, figsize=(4,4))\nplt.show()",
      "execution_count": null,
      "outputs": []
    },
    {
      "metadata": {
        "_uuid": "35271a9be63f24a9a14e25a7d32358434ae43489"
      },
      "cell_type": "markdown",
      "source": "- Proportion of married applicants is higher for the approved loans.\n- Distribution of applicants with 1 or 3+ dependents is similar across both the categories of Loan_Status.\n- There is nothing significant we can infer from Self_Employed vs Loan_Status plot.\n\nNow we will look at the relationship between remaining categorical independent variables and Loan_Status."
    },
    {
      "metadata": {
        "trusted": true,
        "scrolled": true,
        "_uuid": "f1a86607829ade4c9108c42177f4adc710d82d31"
      },
      "cell_type": "code",
      "source": "Credit_History=pd.crosstab(train_df['Credit_History'],train_df['Loan_Status'])\nProperty_Area=pd.crosstab(train_df['Property_Area'],train_df['Loan_Status'])\n\nCredit_History.div(Credit_History.sum(1).astype(float), axis=0).plot(kind=\"bar\", stacked=True, figsize=(4,4))\nplt.show()\n\nProperty_Area.div(Property_Area.sum(1).astype(float), axis=0).plot(kind=\"bar\", stacked=True)\nplt.show()",
      "execution_count": null,
      "outputs": []
    },
    {
      "metadata": {
        "_uuid": "9e9bbe21cff05fe044692e014f3ae7f3e01b963e"
      },
      "cell_type": "markdown",
      "source": "## Numerical Independent Variable vs Target Variable"
    },
    {
      "metadata": {
        "trusted": true,
        "_uuid": "706268d550fd1b1cbbacfe862a84e99952ed8735"
      },
      "cell_type": "code",
      "source": "train_df.groupby('Loan_Status').mean().plot.bar()",
      "execution_count": null,
      "outputs": []
    },
    {
      "metadata": {
        "trusted": true,
        "_uuid": "2b9deb604421839dd5567b546ef0bcc6a3f08f29"
      },
      "cell_type": "code",
      "source": "train_df.groupby('Loan_Status')['ApplicantIncome'].mean().plot.bar()",
      "execution_count": null,
      "outputs": []
    },
    {
      "metadata": {
        "_uuid": "bee04b5c5f4ff10ce10d951f599fc4639765c0f6"
      },
      "cell_type": "markdown",
      "source": "We don’t see any change in the mean income. So, let’s make bins for the applicant income variable based on the values in it and analyze the corresponding loan status for each bin."
    },
    {
      "metadata": {
        "trusted": true,
        "_uuid": "16b649378130ff16b7f131eae57a0e750ad4dc93"
      },
      "cell_type": "code",
      "source": "bins=[0,2500,4000,6000,81000]\ngroup=['Low','Average','High', 'Very high']\ntrain_df['Income_bin'] = pd.cut(train_df['ApplicantIncome'],bins,labels=group)\n",
      "execution_count": null,
      "outputs": []
    },
    {
      "metadata": {
        "trusted": true,
        "_uuid": "53bd82e0307afad3026c1791b85c243acbe2bdcb"
      },
      "cell_type": "code",
      "source": "Income_bin=pd.crosstab(train_df['Income_bin'],train_df['Loan_Status'])\nIncome_bin.div(Income_bin.sum(1).astype(float), axis=0).plot(kind=\"bar\", stacked=True)\nplt.xlabel('ApplicantIncome')\nP = plt.ylabel('Percentage')",
      "execution_count": null,
      "outputs": []
    },
    {
      "metadata": {
        "_uuid": "ae75a77f8eabaf51dff2245622cc0d63622a99f5"
      },
      "cell_type": "markdown",
      "source": "It can be inferred that Applicant income does not affect the chances of loan approval which contradicts our hypothesis in which we assumed that if the applicant income is high the chances of loan approval will also be high.\n\nWe will analyze the coapplicant income and loan amount variable in similar manner."
    },
    {
      "metadata": {
        "trusted": true,
        "_uuid": "19ae91ccc36666dbd44123b356e4e29ba724fa9f"
      },
      "cell_type": "code",
      "source": "bins=[0,1000,3000,42000]\ngroup=['Low','Average','High']\ntrain_df['Coapplicant_Income_bin'] = pd.cut(train_df['CoapplicantIncome'],bins,labels=group)\n\nCoapplicant_Income_bin=pd.crosstab(train_df['Coapplicant_Income_bin'], train_df['Loan_Status'])\nCoapplicant_Income_bin.div(Coapplicant_Income_bin.sum(1).astype(float), axis=0).plot(kind=\"bar\", stacked=True)\nplt.xlabel('CoapplicantIncome')\nP = plt.ylabel('Percentage')",
      "execution_count": null,
      "outputs": []
    },
    {
      "metadata": {
        "_uuid": "e31d3fbc8edd5b35d280a397bfe8d781d0390200"
      },
      "cell_type": "markdown",
      "source": "It shows that if coapplicant’s income is less the chances of loan approval are high. But this does not look right. The possible reason behind this may be that most of the applicants don’t have any coapplicant so the coapplicant income for such applicants is 0 and hence the loan approval is not dependent on it. \nSo we can make a new variable in which we will combine the applicant’s and coapplicant’s income to visualize the combined effect of income on loan approval.\nLet us combine the Applicant Income and Coapplicant Income and see the combined effect of Total Income on the Loan_Status."
    },
    {
      "metadata": {
        "trusted": true,
        "_uuid": "d7b8a32b06b8f924bc3a61c0933104d817fdea08"
      },
      "cell_type": "code",
      "source": "train_df['Total_Income']=train_df['ApplicantIncome']+train_df['CoapplicantIncome']",
      "execution_count": null,
      "outputs": []
    },
    {
      "metadata": {
        "trusted": true,
        "_uuid": "0e35546de2f7b93a71cd2b0a48d47cb200b75cf1"
      },
      "cell_type": "code",
      "source": "bins = [0,2500,4000,6000,81000]\ngroup=['Low','Average','High', 'Very high']\ntrain_df['Total_Income_bin'] = pd.cut(train_df['Total_Income'],bins,labels=group)\n\nTotal_Income_bin = pd.crosstab(train_df['Total_Income_bin'], train_df['Loan_Status'])\nTotal_Income_bin.div(Total_Income_bin.sum(1).astype(float), axis=0).plot(kind=\"bar\", stacked=True)\nplt.xlabel('Total_Income')\nP = plt.ylabel('Percentage')",
      "execution_count": null,
      "outputs": []
    },
    {
      "metadata": {
        "_uuid": "e117892470f9f01dc3d782359b45acd2d20cd63c"
      },
      "cell_type": "markdown",
      "source": "Let’s visualize the Loan amount variable."
    },
    {
      "metadata": {
        "trusted": true,
        "_uuid": "62d0f8c8e7d318cc58e0f41508862777cc8e9dad"
      },
      "cell_type": "code",
      "source": "bins=[0,100,200,700]\ngroup=['Low','Average','High']\ntrain_df['LoanAmount_bin'] = pd.cut(train_df['LoanAmount'], bins, labels=group)\n\nLoanAmount_bin=pd.crosstab(train_df['LoanAmount_bin'], train_df['Loan_Status'])\nLoanAmount_bin.div(LoanAmount_bin.sum(1).astype(float), axis=0).plot(kind=\"bar\", stacked=True)\nplt.xlabel('LoanAmount')\nP = plt.ylabel('Percentage')",
      "execution_count": null,
      "outputs": []
    },
    {
      "metadata": {
        "_uuid": "4954d1b7c9e3d398091ad89a4c252709bc2db5ad"
      },
      "cell_type": "markdown",
      "source": "It can be seen that the proportion of approved loans is higher for Low and Average Loan Amount as compared to that of High Loan Amount which supports our hypothesis in which we considered that the chances of loan approval will be high when the loan amount is less.\n\nLet’s drop the bins which we created for the exploration part. We will change the 3+ in dependents variable to 3 to make it a numerical variable.We will also convert the target variable’s categories into 0 and 1 so that we can find its correlation with numerical variables. One more reason to do so is few models like logistic regression takes only numeric values as input. We will replace N with 0 and Y with 1."
    },
    {
      "metadata": {
        "trusted": true,
        "_uuid": "27f5d5b6447f11b3bcf0b61c8637953a313c7e91"
      },
      "cell_type": "code",
      "source": "train_df = train_df.drop(['Income_bin', 'Coapplicant_Income_bin', 'LoanAmount_bin', 'Total_Income_bin', 'Total_Income'], axis=1)",
      "execution_count": null,
      "outputs": []
    },
    {
      "metadata": {
        "trusted": true,
        "_uuid": "6c9d662fc1a26e79790a8342af8f8430e71266bc"
      },
      "cell_type": "code",
      "source": "train_df['Dependents'].replace('3+', 3,inplace=True)\ntest_df['Dependents'].replace('3+', 3,inplace=True)\ntrain_df['Loan_Status'].replace('N', 0,inplace=True)\ntrain_df['Loan_Status'].replace('Y', 1,inplace=True)",
      "execution_count": null,
      "outputs": []
    },
    {
      "metadata": {
        "_uuid": "a3aeb67fd5168e24be5bc00fbb6e9399e404393e"
      },
      "cell_type": "markdown",
      "source": "Now lets look at the correlation between all the numerical variables. We will use the heat map to visualize the correlation.\n\nHeatmaps visualize data through variations in coloring. The variables with darker color means their correlation is more."
    },
    {
      "metadata": {
        "trusted": true,
        "_uuid": "a89bd22a9764f6ffd9924c382b624b7ddbe19859"
      },
      "cell_type": "code",
      "source": "matrix = train_df.corr()\nprint(matrix)\nf, ax = plt.subplots(figsize=(9, 6))\nsns.heatmap(matrix, vmax=.8, square=True, cmap=\"BuPu\");",
      "execution_count": null,
      "outputs": []
    }
  ],
  "metadata": {
    "kernelspec": {
      "display_name": "Python 3",
      "language": "python",
      "name": "python3"
    },
    "language_info": {
      "name": "python",
      "version": "3.6.6",
      "mimetype": "text/x-python",
      "codemirror_mode": {
        "name": "ipython",
        "version": 3
      },
      "pygments_lexer": "ipython3",
      "nbconvert_exporter": "python",
      "file_extension": ".py"
    }
  },
  "nbformat": 4,
  "nbformat_minor": 1
}